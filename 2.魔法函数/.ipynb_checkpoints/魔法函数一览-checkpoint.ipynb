{
 "cells": [
  {
   "cell_type": "code",
   "execution_count": 17,
   "metadata": {},
   "outputs": [
    {
     "name": "stdout",
     "output_type": "stream",
     "text": [
      "张三\n",
      "李四\n",
      "王五\n",
      "赵六\n",
      "张三,李四,王五,赵六\n"
     ]
    },
    {
     "data": {
      "text/plain": [
       "张三,李四,王五,赵六"
      ]
     },
     "execution_count": 17,
     "metadata": {},
     "output_type": "execute_result"
    }
   ],
   "source": [
    "class Student:\n",
    "    def __init__(self, student_list):\n",
    "        self.student = student_list\n",
    "\n",
    "    def __getitem__(self, item):\n",
    "        return self.student[item]\n",
    "\n",
    "    # 打印模式\n",
    "    def __str__(self):\n",
    "        return ','.join(self.student)\n",
    "\n",
    "    # 调试模式\n",
    "    def __repr__(self):\n",
    "        return ','.join(self.student)\n",
    "\n",
    "student = Student(['张三', '李四', '王五', '赵六'])\n",
    "\n",
    "for item in student:\n",
    "    print(item)\n",
    "\n",
    "# 当使用print进行实例化打印时，自动调用__str__方法\n",
    "print(student)\n",
    "\n",
    "# 调试模式\n",
    "student"
   ]
  },
  {
   "cell_type": "code",
   "execution_count": null,
   "metadata": {},
   "outputs": [],
   "source": []
  },
  {
   "cell_type": "code",
   "execution_count": 18,
   "metadata": {},
   "outputs": [
    {
     "data": {
      "text/plain": [
       "'\\n当前的魔术方法是不是因为继承了object而拥有的这些方法，这是错误的\\n\\n当前的魔术方法是Python自带的，跟类没有关系\\n魔术方法是自带的，自己不能去实现这些魔术方法\\n'"
      ]
     },
     "execution_count": 18,
     "metadata": {},
     "output_type": "execute_result"
    }
   ],
   "source": [
    "'''\n",
    "当前的魔术方法是不是因为继承了object而拥有的这些方法，这是错误的\n",
    "\n",
    "当前的魔术方法是Python自带的，跟类没有关系\n",
    "魔术方法是自带的，自己不能去实现这些魔术方法\n",
    "'''"
   ]
  },
  {
   "cell_type": "code",
   "execution_count": 19,
   "metadata": {},
   "outputs": [
    {
     "data": {
      "text/plain": [
       "3"
      ]
     },
     "execution_count": 19,
     "metadata": {},
     "output_type": "execute_result"
    }
   ],
   "source": [
    "# 绝对值\n",
    "class Nums:\n",
    "    def __init__(self, num):\n",
    "        self.num = num\n",
    "    \n",
    "    def __abs__(self):\n",
    "        return abs(self.num)\n",
    "\n",
    "my_num = Nums(-3)\n",
    "abs(my_num)"
   ]
  },
  {
   "cell_type": "code",
   "execution_count": null,
   "metadata": {},
   "outputs": [],
   "source": [
    "# 向量运算\n",
    "class MyVector:\n",
    "    def __init__(self, x, y):\n",
    "          self.x = x\n",
    "         self.y = y"
   ]
  }
 ],
 "metadata": {
  "kernelspec": {
   "display_name": "Python 3 (ipykernel)",
   "language": "python",
   "name": "python3"
  },
  "language_info": {
   "codemirror_mode": {
    "name": "ipython",
    "version": 3
   },
   "file_extension": ".py",
   "mimetype": "text/x-python",
   "name": "python",
   "nbconvert_exporter": "python",
   "pygments_lexer": "ipython3",
   "version": "3.8.2"
  }
 },
 "nbformat": 4,
 "nbformat_minor": 1
}
